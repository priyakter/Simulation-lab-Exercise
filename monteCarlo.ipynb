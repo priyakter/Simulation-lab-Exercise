{
  "nbformat": 4,
  "nbformat_minor": 0,
  "metadata": {
    "colab": {
      "provenance": [],
      "authorship_tag": "ABX9TyM6KHsm5dA9vQDOPvmSTNFH",
      "include_colab_link": true
    },
    "kernelspec": {
      "name": "python3",
      "display_name": "Python 3"
    },
    "language_info": {
      "name": "python"
    }
  },
  "cells": [
    {
      "cell_type": "markdown",
      "metadata": {
        "id": "view-in-github",
        "colab_type": "text"
      },
      "source": [
        "<a href=\"https://colab.research.google.com/github/priyakter/Simulation-lab-Exercise/blob/main/monteCarlo.ipynb\" target=\"_parent\"><img src=\"https://colab.research.google.com/assets/colab-badge.svg\" alt=\"Open In Colab\"/></a>"
      ]
    },
    {
      "cell_type": "code",
      "execution_count": 1,
      "metadata": {
        "colab": {
          "base_uri": "https://localhost:8080/",
          "height": 834
        },
        "id": "ScfEVAKint0z",
        "outputId": "693aecb7-4727-4a51-85b3-1227f3f726a7"
      },
      "outputs": [
        {
          "output_type": "stream",
          "name": "stdout",
          "text": [
            "              Task1         Task2         Task3         Task4         Task5  \\\n",
            "count  10000.000000  10000.000000  10000.000000  10000.000000  10000.000000   \n",
            "mean       5.332944      4.339807      5.647036      6.663118      5.669630   \n",
            "std        1.022052      1.024559      1.250654      1.244131      1.238740   \n",
            "min        3.025390      2.034255      3.018436      4.047279      3.025938   \n",
            "25%        4.587954      3.587756      4.710158      5.726766      4.752694   \n",
            "50%        5.270985      4.274997      5.503923      6.540863      5.537974   \n",
            "75%        6.052726      5.061522      6.539675      7.551123      6.555199   \n",
            "max        7.980543      6.980789      8.978162      9.954407      8.957658   \n",
            "\n",
            "              Task6  \n",
            "count  10000.000000  \n",
            "mean       5.338420  \n",
            "std        1.250667  \n",
            "min        2.064473  \n",
            "25%        4.449094  \n",
            "50%        5.467059  \n",
            "75%        6.281614  \n",
            "max        7.922783  \n",
            "Minimum project completion time =  15.3712837596698\n",
            "Mean project completion time =  23.47900057475577\n",
            "Maximum project completion time =  32.24434410757868\n"
          ]
        },
        {
          "output_type": "display_data",
          "data": {
            "text/plain": [
              "<Figure size 640x480 with 6 Axes>"
            ],
            "image/png": "[encoded data removed]"
          },
          "metadata": {}
        }
      ],
      "source": [
        "import pandas as pd\n",
        "import random\n",
        "import numpy as np\n",
        "\n",
        "N = 10000\n",
        "\n",
        "TotalTime=[]\n",
        "\n",
        "T =  np.empty(shape=(N,6))\n",
        "\n",
        "TaskTimes=[[3,5,8],\n",
        "          [2,4,7],\n",
        "           [3,5,9],\n",
        "           [4,6,10],\n",
        "           [3,5,9],\n",
        "           [2,6,8]]\n",
        "\n",
        "Lh=[]\n",
        "for i in range(6):\n",
        "    Lh.append((TaskTimes[i][1]-TaskTimes[i][0])/(TaskTimes[i][2]-TaskTimes[i][0]))\n",
        "\n",
        "\n",
        "for p in range(N):\n",
        "    for i in range(6):\n",
        "        trand=random.random()\n",
        "        if (trand < Lh[i]):\n",
        "            T[p][i] = TaskTimes[i][0] + np.sqrt(trand*(TaskTimes[i][1]-TaskTimes[i][0])*(TaskTimes[i][2]-TaskTimes[i][0]))\n",
        "        else:\n",
        "            T[p][i] = TaskTimes[i][2] - np.sqrt((1-trand)*(TaskTimes[i][2]-TaskTimes[i][1])*(TaskTimes[i][2]-TaskTimes[i][0]))\n",
        "    TotalTime.append( T[p][0]+ np.maximum(T[p][1],T[p][2]) + np.maximum(T[p][3],T[p][4]) + T[p][5])\n",
        "\n",
        "\n",
        "Data = pd.DataFrame(T,columns=['Task1', 'Task2', 'Task3', 'Task4', 'Task5', 'Task6'])\n",
        "\n",
        "pd.set_option('display.max_columns', None)\n",
        "print(Data.describe())\n",
        "\n",
        "hist = Data.hist(bins=10)\n",
        "\n",
        "\n",
        "print(\"Minimum project completion time = \",np.amin(TotalTime))\n",
        "\n",
        "print(\"Mean project completion time = \",np.mean(TotalTime))\n",
        "\n",
        "print(\"Maximum project completion time = \",np.amax(TotalTime))\n",
        "\n",
        "\n",
        "\n",
        "\n"
      ]
    },
    {
      "cell_type": "code",
      "source": [
        "\n",
        "import numpy as np\n",
        "\n",
        "\n",
        "n_simulations = 100000\n",
        "n_points_circle = 0\n",
        "n_points_square = 0\n",
        "\n",
        "\n",
        "l_xs = []\n",
        "l_ys = []\n",
        "\n",
        "\n",
        "for _ in range(n_simulations):\n",
        "\n",
        "\n",
        "    x = np.random.uniform(-1, 1)\n",
        "\n",
        "    l_xs.append(x)\n",
        "\n",
        "\n",
        "    y = np.random.uniform(-1, 1)\n",
        "\n",
        "    l_ys.append(y)\n",
        "\n",
        "for i in range(n_simulations):\n",
        "\n",
        "\n",
        "    dist_from_origin = l_xs[i] ** 2 + l_ys[i] ** 2\n",
        "\n",
        "\n",
        "    if dist_from_origin <= 1:\n",
        "        n_points_circle += 1\n",
        "\n",
        "\n",
        "    n_points_square += 1\n",
        "\n",
        "\n",
        "pi = 4 * n_points_circle / n_points_square\n",
        "print(pi)"
      ],
      "metadata": {
        "colab": {
          "base_uri": "https://localhost:8080/"
        },
        "id": "1LrKSgUvoaUv",
        "outputId": "4c5f02f5-a005-4716-f749-5b7dfdf6d580"
      },
      "execution_count": 3,
      "outputs": [
        {
          "output_type": "stream",
          "name": "stdout",
          "text": [
            "3.13812\n"
          ]
        }
      ]
    }
  ]
}