{
  "nbformat": 4,
  "nbformat_minor": 0,
  "metadata": {
    "colab": {
      "provenance": [],
      "authorship_tag": "ABX9TyMNmHZMyY9ZQr6OTt+I6z7p",
      "include_colab_link": true
    },
    "kernelspec": {
      "name": "python3",
      "display_name": "Python 3"
    },
    "language_info": {
      "name": "python"
    }
  },
  "cells": [
    {
      "cell_type": "markdown",
      "metadata": {
        "id": "view-in-github",
        "colab_type": "text"
      },
      "source": [
        "<a href=\"https://colab.research.google.com/github/priyakter/Simulation-lab-Exercise/blob/main/ApproximatePI.ipynb\" target=\"_parent\"><img src=\"https://colab.research.google.com/assets/colab-badge.svg\" alt=\"Open In Colab\"/></a>"
      ]
    },
    {
      "cell_type": "code",
      "execution_count": null,
      "metadata": {
        "id": "XpV340cJp7u0"
      },
      "outputs": [],
      "source": [
        "import random\n",
        "INTERVAL = 1000\n",
        "circle_points = 0\n",
        "square_points = 0\n",
        "\n",
        "for i in range(INTERVAL**2):\n",
        "\n",
        "\t# Random point generate Range of x and y values is -1 to 1\n",
        "\tx = random.uniform(-1, 1)\n",
        "\ty = random.uniform(-1, 1)\n",
        "# Distance between (x, y) from the origin\n",
        "\td = x**2 + y**2\n",
        "# Checking if (x, y) lies inside the circle\n",
        "\tif d <= 1:\n",
        "\t\tcircle_points += 1\n",
        "\tsquare_points += 1\n",
        "\t# area of circle/area of square=(pi*r^2)/(4*r^2)\n",
        "\t# pi/4= number of point generate inside the circle/number of point generate inside the square\n",
        "\tpi = 4 * circle_points / square_points\n",
        "print(\"Final Estimation of Pi= \", pi)\n"
      ]
    }
  ]
}